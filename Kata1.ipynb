{
 "cells": [
  {
   "cell_type": "code",
   "execution_count": 2,
   "metadata": {},
   "outputs": [
    {
     "name": "stdout",
     "output_type": "stream",
     "text": [
      "Todays date is:2022-02-15\n"
     ]
    }
   ],
   "source": [
    "from datetime import date\n",
    "print (\"Todays date is:\" + str(date.today()))"
   ]
  },
  {
   "cell_type": "code",
   "execution_count": 9,
   "metadata": {},
   "outputs": [
    {
     "name": "stdout",
     "output_type": "stream",
     "text": [
      "11persec is35.877159999999996lightyears\n"
     ]
    }
   ],
   "source": [
    "persec=11\n",
    "lightyears = 3.26156 * persec\n",
    "print (str (persec) + \"persec is\" + str (lightyears) + \"lightyears\")"
   ]
  }
 ],
 "metadata": {
  "interpreter": {
   "hash": "233db240fe3a917f026acdb53e9c621d3b91fec291a120eec55ac4a03e7de44e"
  },
  "kernelspec": {
   "display_name": "Python 3.10.2 64-bit",
   "language": "python",
   "name": "python3"
  },
  "language_info": {
   "codemirror_mode": {
    "name": "ipython",
    "version": 3
   },
   "file_extension": ".py",
   "mimetype": "text/x-python",
   "name": "python",
   "nbconvert_exporter": "python",
   "pygments_lexer": "ipython3",
   "version": "3.10.2"
  },
  "orig_nbformat": 4
 },
 "nbformat": 4,
 "nbformat_minor": 2
}
